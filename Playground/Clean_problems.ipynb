{
 "cells": [
  {
   "cell_type": "code",
   "execution_count": 32,
   "metadata": {},
   "outputs": [],
   "source": [
    "from xml.etree.ElementTree import ElementTree\n",
    "from xml.etree.ElementTree import XML\n",
    "import re"
   ]
  },
  {
   "cell_type": "code",
   "execution_count": 25,
   "metadata": {},
   "outputs": [],
   "source": [
    "path = '../Data/qa_mock_exams/all_problems.xml'"
   ]
  },
  {
   "cell_type": "code",
   "execution_count": 33,
   "metadata": {},
   "outputs": [],
   "source": [
    "def get_records(path):\n",
    "    xml_data = open(path, encoding=\"utf8\").read()\n",
    "    return XML(xml_data)"
   ]
  },
  {
   "cell_type": "code",
   "execution_count": 9,
   "metadata": {},
   "outputs": [],
   "source": [
    "def remove_trailing_character(sentence):\n",
    "    match = re.match(\"^(.*)[.!,;:]$\", sentence)\n",
    "    if match is None:\n",
    "        return sentence\n",
    "    return match.group(1)"
   ]
  },
  {
   "cell_type": "code",
   "execution_count": 34,
   "metadata": {},
   "outputs": [],
   "source": [
    "records = get_records(path)\n",
    "\n",
    "for record in records:\n",
    "    for child in record:\n",
    "        if child.tag == 'question':\n",
    "            child.text = child.text.strip()\n",
    "        elif child.tag == 'choices':\n",
    "            for choice in child:\n",
    "                choice.text = choice.text.strip()\n",
    "                choice.text = remove_trailing_character(choice.text)"
   ]
  },
  {
   "cell_type": "code",
   "execution_count": 41,
   "metadata": {},
   "outputs": [],
   "source": [
    "ElementTree(records).write(path, encoding='utf8')"
   ]
  }
 ],
 "metadata": {
  "kernelspec": {
   "display_name": "MDI720",
   "language": "python",
   "name": "mdi720"
  },
  "language_info": {
   "codemirror_mode": {
    "name": "ipython",
    "version": 3
   },
   "file_extension": ".py",
   "mimetype": "text/x-python",
   "name": "python",
   "nbconvert_exporter": "python",
   "pygments_lexer": "ipython3",
   "version": "3.6.3"
  }
 },
 "nbformat": 4,
 "nbformat_minor": 2
}
