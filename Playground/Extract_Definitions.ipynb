{
 "cells": [
  {
   "cell_type": "code",
   "execution_count": 26,
   "metadata": {
    "collapsed": true
   },
   "outputs": [],
   "source": [
    "import json\n",
    "import numpy as np\n",
    "from read_problems import read_all_problems"
   ]
  },
  {
   "cell_type": "code",
   "execution_count": 51,
   "metadata": {
    "collapsed": false
   },
   "outputs": [],
   "source": [
    "problems_df = read_all_problems()"
   ]
  },
  {
   "cell_type": "code",
   "execution_count": 5,
   "metadata": {
    "collapsed": false
   },
   "outputs": [],
   "source": [
    "definition_questions = problems_df[problems_df['question'].str.contains('described as') | \\\n",
    "                       problems_df['question'].str.contains('defined as')]"
   ]
  },
  {
   "cell_type": "code",
   "execution_count": 8,
   "metadata": {
    "collapsed": false
   },
   "outputs": [],
   "source": [
    "queries = []\n",
    "json_definition_questions = {'queries' : queries}\n",
    "\n",
    "with open('definition_questions.json', 'w') as f:\n",
    "    nb_choices = 0\n",
    "    for i_row in range(len(definition_questions)):\n",
    "        choices = []\n",
    "        definition = definition_questions.iloc[i_row]\n",
    "        choices.append(definition['choice_A'])\n",
    "        choices.append(definition['choice_B'])\n",
    "        choices.append(definition['choice_C'])\n",
    "        choice_D = definition['choice_D']\n",
    "        if not choice_D is np.nan:\n",
    "            choices.append(choice_D)\n",
    "            nb_choices += 4\n",
    "        else:\n",
    "            nb_choices += 3\n",
    "        question = definition['question']\n",
    "        answer = definition['answer']\n",
    "        query = {'question' : question, 'choices' : choices,\n",
    "                 'answer': answer}\n",
    "        queries.append(query)\n",
    "    \n",
    "    f.write(json.dumps(json_definition_questions))"
   ]
  }
 ],
 "metadata": {
  "kernelspec": {
   "display_name": "MDI720",
   "language": "python",
   "name": "mdi720"
  },
  "language_info": {
   "codemirror_mode": {
    "name": "ipython",
    "version": 3
   },
   "file_extension": ".py",
   "mimetype": "text/x-python",
   "name": "python",
   "nbconvert_exporter": "python",
   "pygments_lexer": "ipython3",
   "version": "3.5.3"
  }
 },
 "nbformat": 4,
 "nbformat_minor": 2
}
