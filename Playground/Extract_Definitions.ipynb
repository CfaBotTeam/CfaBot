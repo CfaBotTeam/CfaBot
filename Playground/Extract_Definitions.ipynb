{
 "cells": [
  {
   "cell_type": "code",
   "execution_count": 1,
   "metadata": {
    "collapsed": true
   },
   "outputs": [],
   "source": [
    "import json\n",
    "import numpy as np\n",
    "from read_problems import read_all_problems"
   ]
  },
  {
   "cell_type": "code",
   "execution_count": 2,
   "metadata": {
    "collapsed": false
   },
   "outputs": [],
   "source": [
    "problems_df = read_all_problems()"
   ]
  },
  {
   "cell_type": "code",
   "execution_count": 3,
   "metadata": {
    "collapsed": false
   },
   "outputs": [],
   "source": [
    "definition_questions = problems_df[problems_df['question'].str.contains('described as') | \\\n",
    "                       problems_df['question'].str.contains('defined as')]"
   ]
  },
  {
   "cell_type": "code",
   "execution_count": 27,
   "metadata": {},
   "outputs": [
    {
     "data": {
      "text/plain": [
       "'The most relevant definition for duration is:\\t'"
      ]
     },
     "execution_count": 27,
     "metadata": {},
     "output_type": "execute_result"
    }
   ],
   "source": [
    "problems_df.iloc[698]['question']"
   ]
  },
  {
   "cell_type": "code",
   "execution_count": 24,
   "metadata": {},
   "outputs": [
    {
     "data": {
      "text/html": [
       "<div>\n",
       "<style scoped>\n",
       "    .dataframe tbody tr th:only-of-type {\n",
       "        vertical-align: middle;\n",
       "    }\n",
       "\n",
       "    .dataframe tbody tr th {\n",
       "        vertical-align: top;\n",
       "    }\n",
       "\n",
       "    .dataframe thead th {\n",
       "        text-align: right;\n",
       "    }\n",
       "</style>\n",
       "<table border=\"1\" class=\"dataframe\">\n",
       "  <thead>\n",
       "    <tr style=\"text-align: right;\">\n",
       "      <th></th>\n",
       "      <th>answer</th>\n",
       "      <th>choice_A</th>\n",
       "      <th>choice_B</th>\n",
       "      <th>choice_C</th>\n",
       "      <th>choice_D</th>\n",
       "      <th>comments</th>\n",
       "      <th>filename</th>\n",
       "      <th>question</th>\n",
       "      <th>question_nb</th>\n",
       "      <th>topic</th>\n",
       "      <th>year</th>\n",
       "    </tr>\n",
       "  </thead>\n",
       "  <tbody>\n",
       "    <tr>\n",
       "      <th>698</th>\n",
       "      <td>A</td>\n",
       "      <td>a security’s price sensitivity to changes in y...</td>\n",
       "      <td>the first derivative of the security’s price w...</td>\n",
       "      <td>the weighted-average time until receipt of the...</td>\n",
       "      <td>NaN</td>\n",
       "      <td>By accessing this mock exam, you agree to the ...</td>\n",
       "      <td>2010_morning_answer.xml</td>\n",
       "      <td>The most relevant definition for duration is:\\t</td>\n",
       "      <td>99</td>\n",
       "      <td>Fixed Income Investments</td>\n",
       "      <td>2010</td>\n",
       "    </tr>\n",
       "    <tr>\n",
       "      <th>825</th>\n",
       "      <td>B</td>\n",
       "      <td>half-life.</td>\n",
       "      <td>price sensitivity to yield changes.</td>\n",
       "      <td>first derivative of value with respect to its ...</td>\n",
       "      <td>NaN</td>\n",
       "      <td>\"Introduction to the Measurement of Interest R...</td>\n",
       "      <td>2011_afternoon_answer.xml</td>\n",
       "      <td>Which of these definitions of duration is most...</td>\n",
       "      <td>106</td>\n",
       "      <td>Fixed Income Investments</td>\n",
       "      <td>2011</td>\n",
       "    </tr>\n",
       "    <tr>\n",
       "      <th>1220</th>\n",
       "      <td>A</td>\n",
       "      <td>zero and positive one.</td>\n",
       "      <td>zero and positive infinity.</td>\n",
       "      <td>minus one and positive one.</td>\n",
       "      <td>NaN</td>\n",
       "      <td>\"Probability Concepts,\" Richard A. DeFusco, CF...</td>\n",
       "      <td>2013_afternoon_answer.xml</td>\n",
       "      <td>By definition, the probability of any event, E...</td>\n",
       "      <td>21</td>\n",
       "      <td>Quantitative Methods</td>\n",
       "      <td>2013</td>\n",
       "    </tr>\n",
       "    <tr>\n",
       "      <th>1471</th>\n",
       "      <td>A</td>\n",
       "      <td>zero and positive one.</td>\n",
       "      <td>minus one and positive one.</td>\n",
       "      <td>zero and positive infinity.</td>\n",
       "      <td>NaN</td>\n",
       "      <td>The two defining properties of a probability a...</td>\n",
       "      <td>2016_morning_question.xml</td>\n",
       "      <td>By definition, the probability of any Event E ...</td>\n",
       "      <td>32</td>\n",
       "      <td>Quantitative Methods</td>\n",
       "      <td>2016</td>\n",
       "    </tr>\n",
       "  </tbody>\n",
       "</table>\n",
       "</div>"
      ],
      "text/plain": [
       "     answer                                           choice_A  \\\n",
       "698       A  a security’s price sensitivity to changes in y...   \n",
       "825       B                                         half-life.   \n",
       "1220      A                             zero and positive one.   \n",
       "1471      A                             zero and positive one.   \n",
       "\n",
       "                                               choice_B  \\\n",
       "698   the first derivative of the security’s price w...   \n",
       "825                 price sensitivity to yield changes.   \n",
       "1220                        zero and positive infinity.   \n",
       "1471                        minus one and positive one.   \n",
       "\n",
       "                                               choice_C choice_D  \\\n",
       "698   the weighted-average time until receipt of the...      NaN   \n",
       "825   first derivative of value with respect to its ...      NaN   \n",
       "1220                        minus one and positive one.      NaN   \n",
       "1471                        zero and positive infinity.      NaN   \n",
       "\n",
       "                                               comments  \\\n",
       "698   By accessing this mock exam, you agree to the ...   \n",
       "825   \"Introduction to the Measurement of Interest R...   \n",
       "1220  \"Probability Concepts,\" Richard A. DeFusco, CF...   \n",
       "1471  The two defining properties of a probability a...   \n",
       "\n",
       "                       filename  \\\n",
       "698     2010_morning_answer.xml   \n",
       "825   2011_afternoon_answer.xml   \n",
       "1220  2013_afternoon_answer.xml   \n",
       "1471  2016_morning_question.xml   \n",
       "\n",
       "                                               question question_nb  \\\n",
       "698     The most relevant definition for duration is:\\t          99   \n",
       "825   Which of these definitions of duration is most...         106   \n",
       "1220  By definition, the probability of any event, E...          21   \n",
       "1471  By definition, the probability of any Event E ...          32   \n",
       "\n",
       "                         topic  year  \n",
       "698   Fixed Income Investments  2010  \n",
       "825   Fixed Income Investments  2011  \n",
       "1220      Quantitative Methods  2013  \n",
       "1471      Quantitative Methods  2016  "
      ]
     },
     "execution_count": 24,
     "metadata": {},
     "output_type": "execute_result"
    }
   ],
   "source": [
    "problems_df[problems_df['question'].str.contains('definition')]"
   ]
  },
  {
   "cell_type": "code",
   "execution_count": 4,
   "metadata": {
    "collapsed": false
   },
   "outputs": [
    {
     "data": {
      "text/plain": [
       "142"
      ]
     },
     "execution_count": 4,
     "metadata": {},
     "output_type": "execute_result"
    }
   ],
   "source": [
    "len(definition_questions)"
   ]
  },
  {
   "cell_type": "code",
   "execution_count": 55,
   "metadata": {
    "collapsed": false
   },
   "outputs": [],
   "source": [
    "queries = []\n",
    "json_definition_questions = {'queries' : queries}\n",
    "\n",
    "with open('definition_questions.json', 'w') as f:\n",
    "    nb_choices = 0\n",
    "    for i_row in range(len(definition_questions)):\n",
    "        choices = []\n",
    "        definition = definition_questions.iloc[i_row]\n",
    "        choices.append(definition['choice_A'])\n",
    "        choices.append(definition['choice_B'])\n",
    "        choices.append(definition['choice_C'])\n",
    "        choice_D = definition['choice_D']\n",
    "        if not choice_D is np.nan:\n",
    "            choices.append(choice_D)\n",
    "            nb_choices += 4\n",
    "        else:\n",
    "            nb_choices += 3\n",
    "        question = definition['question']\n",
    "        answer = definition['answer']\n",
    "        query = {'question' : question, 'choices' : choices,\n",
    "                 'answer': answer}\n",
    "        queries.append(query)\n",
    "    \n",
    "    f.write(json.dumps(json_definition_questions))"
   ]
  }
 ],
 "metadata": {
  "kernelspec": {
   "display_name": "MDI720",
   "language": "python",
   "name": "mdi720"
  },
  "language_info": {
   "codemirror_mode": {
    "name": "ipython",
    "version": 3
   },
   "file_extension": ".py",
   "mimetype": "text/x-python",
   "name": "python",
   "nbconvert_exporter": "python",
   "pygments_lexer": "ipython3",
   "version": "3.6.3"
  }
 },
 "nbformat": 4,
 "nbformat_minor": 2
}
