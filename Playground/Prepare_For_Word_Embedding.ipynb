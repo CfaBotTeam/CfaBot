{
 "cells": [
  {
   "cell_type": "code",
   "execution_count": null,
   "metadata": {},
   "outputs": [],
   "source": [
    "import glob\n",
    "import spacy\n",
    "import gensim"
   ]
  },
  {
   "cell_type": "code",
   "execution_count": null,
   "metadata": {},
   "outputs": [],
   "source": [
    "words = []\n",
    "articles = glob.glob('../Embeddings/Investopedia/*/*/*')\n",
    "\n",
    "for i_article, article in enumerate(articles):\n",
    "    if i_article % 1000 == 0:\n",
    "        print('Processed %d articles' % i_article)\n",
    "    with open(article, 'r') as f:\n",
    "        tokens = gensim.utils.simple_preprocess(f.read())\n",
    "        for token in tokens:\n",
    "            words.append(token)"
   ]
  },
  {
   "cell_type": "code",
   "execution_count": null,
   "metadata": {},
   "outputs": [],
   "source": [
    "with open('prepared_investopedia.txt', 'w') as f:\n",
    "    words_length = len(words)\n",
    "    nb_rounds = int(words_length / 1000000)\n",
    "    for i_round in range(nb_rounds):\n",
    "        print('round %d' % i_round)\n",
    "        full_string = ' '.join(words[i_round * 100:(i_round + 1) * 100])\n",
    "        f.write(full_string)\n",
    "    print('last write')\n",
    "    full_string = ' '.join(words[(i_round + 1) * 100:])\n",
    "    f.write(full_string)"
   ]
  }
 ],
 "metadata": {
  "kernelspec": {
   "display_name": "MDI720",
   "language": "python",
   "name": "mdi720"
  },
  "language_info": {
   "codemirror_mode": {
    "name": "ipython",
    "version": 3
   },
   "file_extension": ".py",
   "mimetype": "text/x-python",
   "name": "python",
   "nbconvert_exporter": "python",
   "pygments_lexer": "ipython3",
   "version": "3.6.3"
  }
 },
 "nbformat": 4,
 "nbformat_minor": 2
}
