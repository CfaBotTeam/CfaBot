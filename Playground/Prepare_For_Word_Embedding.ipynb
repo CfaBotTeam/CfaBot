{
 "cells": [
  {
   "cell_type": "code",
   "execution_count": 1,
   "metadata": {},
   "outputs": [],
   "source": [
    "import glob\n",
    "import json\n",
    "import spacy\n",
    "import gensim\n",
    "import numpy as np"
   ]
  },
  {
   "cell_type": "markdown",
   "metadata": {},
   "source": [
    "### Load all prepared words from Investopedia articles"
   ]
  },
  {
   "cell_type": "code",
   "execution_count": 2,
   "metadata": {},
   "outputs": [
    {
     "name": "stdout",
     "output_type": "stream",
     "text": [
      "Processed 0 articles\n",
      "Processed 1000 articles\n",
      "Processed 2000 articles\n",
      "Processed 3000 articles\n",
      "Processed 4000 articles\n",
      "Processed 5000 articles\n",
      "Processed 6000 articles\n",
      "Processed 7000 articles\n",
      "Processed 8000 articles\n",
      "Processed 9000 articles\n",
      "Processed 10000 articles\n",
      "Processed 11000 articles\n",
      "Processed 12000 articles\n"
     ]
    }
   ],
   "source": [
    "investopedia_words = []\n",
    "articles = glob.glob('../Embeddings/Investopedia/*/*/*')\n",
    "\n",
    "for i_article, article in enumerate(articles):\n",
    "    if i_article % 1000 == 0:\n",
    "        print('Processed %d articles' % i_article)\n",
    "    with open(article, 'r') as f:\n",
    "        tokens = gensim.utils.simple_preprocess(f.read())\n",
    "        for token in tokens:\n",
    "            investopedia_words.append(token)"
   ]
  },
  {
   "cell_type": "markdown",
   "metadata": {},
   "source": [
    "### Load all prepared words from DocumentRetriever docs"
   ]
  },
  {
   "cell_type": "code",
   "execution_count": 3,
   "metadata": {},
   "outputs": [],
   "source": [
    "doc_words = []\n",
    "documents = json.load(open('all_data_collected.json', 'r'))\n",
    "for doc in documents:\n",
    "    tokens = gensim.utils.simple_preprocess(doc['text'])\n",
    "    for token in tokens:\n",
    "        doc_words.append(token)"
   ]
  },
  {
   "cell_type": "code",
   "execution_count": 4,
   "metadata": {},
   "outputs": [
    {
     "name": "stdout",
     "output_type": "stream",
     "text": [
      "11031803\n",
      "48915\n",
      "3368765\n",
      "32121\n"
     ]
    }
   ],
   "source": [
    "print(len(investopedia_words))\n",
    "print(len(np.unique(investopedia_words)))\n",
    "print(len(doc_words))\n",
    "print(len(np.unique(doc_words)))"
   ]
  },
  {
   "cell_type": "code",
   "execution_count": 5,
   "metadata": {},
   "outputs": [],
   "source": [
    "words = investopedia_words + doc_words"
   ]
  },
  {
   "cell_type": "markdown",
   "metadata": {},
   "source": [
    "### Dump all training words into a single text file"
   ]
  },
  {
   "cell_type": "code",
   "execution_count": 6,
   "metadata": {},
   "outputs": [
    {
     "name": "stdout",
     "output_type": "stream",
     "text": [
      "round 0\n",
      "round 1\n",
      "round 2\n",
      "round 3\n",
      "round 4\n",
      "round 5\n",
      "round 6\n",
      "round 7\n",
      "round 8\n",
      "round 9\n",
      "round 10\n",
      "round 11\n",
      "round 12\n",
      "round 13\n",
      "last write\n"
     ]
    }
   ],
   "source": [
    "with open('prepared_investopedia.txt', 'w') as f:\n",
    "    words_length = len(words)\n",
    "    nb_rounds = int(words_length / 1000000)\n",
    "    for i_round in range(nb_rounds):\n",
    "        print('round %d' % i_round)\n",
    "        full_string = ' '.join(words[i_round * 100:(i_round + 1) * 100])\n",
    "        f.write(full_string)\n",
    "    print('last write')\n",
    "    full_string = ' '.join(words[(i_round + 1) * 100:])\n",
    "    f.write(full_string)"
   ]
  }
 ],
 "metadata": {
  "kernelspec": {
   "display_name": "MDI720",
   "language": "python",
   "name": "mdi720"
  },
  "language_info": {
   "codemirror_mode": {
    "name": "ipython",
    "version": 3
   },
   "file_extension": ".py",
   "mimetype": "text/x-python",
   "name": "python",
   "nbconvert_exporter": "python",
   "pygments_lexer": "ipython3",
   "version": "3.6.3"
  }
 },
 "nbformat": 4,
 "nbformat_minor": 2
}
