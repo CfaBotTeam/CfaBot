{
 "cells": [
  {
   "cell_type": "code",
   "execution_count": 39,
   "metadata": {
    "collapsed": true
   },
   "outputs": [],
   "source": [
    "import json"
   ]
  },
  {
   "cell_type": "code",
   "execution_count": 40,
   "metadata": {},
   "outputs": [],
   "source": [
    "glossary = json.load(open('../Data/material_handbook/glossary_manual.json'))"
   ]
  },
  {
   "cell_type": "code",
   "execution_count": 31,
   "metadata": {},
   "outputs": [],
   "source": [
    "glossary['escalation bias'] = 'A bias that an investor chooses to increase the amount invested in a poorly performing investment (rather than admit that the investment was a bad decision and cut the loss)'\n",
    "glossary['confirmation bias'] = \"A psychological phenomenon that explains why people tend to seek out information that confirms their existing opinions and overlook or ignore information that refutes their beliefs\"\n",
    "glossary['overconfidence bias'] = \"Believing that you have superior knowledge, abilities, and access to information (aka. Illusion of knowledge)\"\n",
    "\n",
    "glossary['interest rate cap'] = \"a series of European interest call options (called caplets), with a particular interest rate, each of which expire on the date the floating loan rate will be reset\"\n",
    "glossary['interest rate floor'] = \"a series of European interest put options (called caplets) with a particular interest rate, each of which expire on the date the floating loan rate will be reset\"\n",
    "glossary['interest rate collar'] = \"an investment strategy that uses derivatives to hedge an investor's exposure to interest rate fluctuations\"\n",
    "\n",
    "glossary['binomial distribution'] = \"a probability distribution that summarizes the likelihood that a value will take one of two independent values under a given set of parameters or assumptions\"\n",
    "glossary['discrete uniform distribution'] = \"a symmetric probability distribution whereby a finite number of values are equally likely to be observed\"\n",
    "glossary['continuous uniform distribution'] = \"a family of symmetric probability distributions such that for each member of the family, all intervals of the same length on the distribution's support are equally probable\"\n",
    "\n",
    "glossary['dealer market'] = \"A financial market mechanism wherein multiple dealers post prices at which they will buy or sell a specific security of instrument.\"\n",
    "\n",
    "glossary['range notes'] = \"An note in which the coupon rate is linked to a reference rate. As long as the reference rate is within a pre-specified range, the coupon will be equal to the reference rate plus a quoted margin. However, if the reference rate is outside the range, coupon paid will be zero.\"\n",
    "glossary['structured notes'] = \"Hybrid securities that integrate the features of a debt instruments and a derivative\"\n",
    "glossary['medium-term notes'] = \"A note that usually matures in five to 10 years. A corporate MTN can be continuously offered by a company to investors through a dealer with investors being able to choose from differing maturities, ranging from nine months to 30 years, though most MTNs range in maturity from one to 10 years\"\n",
    "\n",
    "glossary['type i error'] = \"the incorrect rejection of a true null hypothesis\"\n",
    "glossary['type ii error'] = \"incorrectly retaining a false null hypothesis\"\n",
    "glossary['test with little power'] = \"test with little probability of correctly rejecting the null hypothesis when it is false\"\n",
    "\n",
    "glossary['change in polarity'] = \"a belief that breached resistance levels become support levels and that breached support levels become resistance levels\"\n",
    "\n",
    "glossary['a triple bottom'] = \"a bullish chart pattern used in technical analysis that's characterized by three equal lows followed by a breakout above resistance\"\n",
    "glossary['a head and shoulders'] = \"describes a specific chart formation that predicts a bullish-to-bearish trend reversal\"\n",
    "glossary['an inverse head and shoulders'] = \"a chart pattern, used in technical analysis to predict the reversal of a current downtrend\"\n",
    "\n",
    "glossary['an oligopoly'] = \"a market structure with a small number of firms, none of which can keep the others from having significant influence\"\n",
    "\n",
    "glossary['conditional distribution'] = \"a probability distribution for a sub-population\"\n",
    "\n",
    "glossary['lepto-kurtosis'] = \"a statistical distribution where the points along the X-axis are clustered, resulting in a higher peak, or higher kurtosis, than the curvature found in a normal distribution\"\n",
    "glossary['positive skewness'] = \"has a long right tail\"\n",
    "glossary['negative skewness'] = \"has a long left tail\"\n",
    "\n",
    "glossary['financial reporting'] = \"the process of producing statements that disclose an organization's financial status to management, investors and the government.\"\n",
    "glossary[\"auditor's report\"] = \"The auditor's report, published in the annual report in conjunction with the financial statements, opines on whether a company's financial statements comply with generally accepted accounting principles (GAAP)\"\n",
    "glossary['financial statement analysis'] = \"the process of reviewing and evaluating a company's financial statements (such as the balance sheet or profit and loss statement), thereby gaining an understanding of the financial health of the company and enabling more effective decision making\"\n",
    "\n",
    "glossary['arbitrage transaction'] = \"making a profit from the difference in prices for commodities in different markets\"\n",
    "glossary['balance sheet transaction'] = \"a statement of the assets, liabilities, and capital of a business or other organization at a particular point in time, detailing the balance of income and expenditure over the preceding period\"\n",
    "glossary['capital infusion transaction'] = \"means in one or more related Transactions which, directly or indirectly, results in the purchase or sale of debt or equity securities of the Company or a third party that does not result in the sale of 51% or more of the outstanding voting securities of the Company or a third party, a subsidiary or a related affiliate or a firm commitment, that resulted from a request by the Company for BPC to pursue such a commitment, from BPC, its affiliates, or a third party to purchase or sell newly issued debt or equity securities of the Company, a subsidiary or a related affiliate, including, but not limited to, committed but undrawn credit facilities.\"\n",
    "\n",
    "glossary['unsystematic risk'] = \"the uncertainty inherent in a company or industry investment\"\n",
    "\n",
    "glossary['adverse opinion'] = \"a professional opinion made by an auditor indicating that a company's financial statements are misrepresented, misstated and do not accurately reflect its financial performance and health\"\n",
    "glossary['qualified opinion'] = \"a statement issued after an audit is done by a professional auditor that suggests the information provided was limited in scope and/or the company being audited has not maintained GAAP accounting principles\"\n",
    "glossary['disclaimer of opinion'] = \"an auditor is unable to complete an accurate audit report, it may issue a disclaimer of opinion\"\n",
    "\n",
    "glossary['trial balance'] = \"a bookkeeping worksheet in which the balances of all ledgers are compiled into debit and credit columns\"\n",
    "glossary['general ledger'] = \"a company's set of numbered accounts for its accounting records\"\n",
    "glossary['general journal'] = \"Common type of journal used in keeping a chronological record of financial transactions of a firm not belonging to other (special) journals, or where no special journal exists\"\n",
    "\n",
    "glossary['mental accounting'] = \"an economic concept established by economist Richard Thaler, which contends that individuals divide their current and future assets into separate, non-transferable portions\"\n",
    "glossary['disposition effect'] = \"the tendency for investors to sell shares in a security whose price has increased while keeping securities that have dropped in value\"\n",
    "glossary[\"gambler's fallacy\"] = \"occurs when an individual erroneously believes that a certain random event is less likely or more likely, given a previous event or a series of events\"\n",
    "\n",
    "glossary['fundamental factor model'] = \"A multifactor model in which the factors are attributes of stocks or companies that are important in explaining cross-sectional differences in stock prices.\"\n",
    "glossary['macroeconomic factor model'] = \"A multifactor model in which the factors are surprises in macroeconomic variables that significantly explain equity returns.\"\n",
    "# glossary['market factor model'] = \"\"\n",
    "\n",
    "glossary['required return'] = \"a minimum level of rate of return that investors would agree to accept for a particular investment as compensation for delaying consumption and taking risk\""
   ]
  },
  {
   "cell_type": "code",
   "execution_count": 29,
   "metadata": {},
   "outputs": [],
   "source": [
    "glossary['operating risk'] = \"The risk attributed to the operating cost structure, in particular the use of fixed costs in operations; the risk arising from the mix of fixed and variable costs; the risk that a company's operations may be severely affected by environmental, social, and governance risk factors.\""
   ]
  },
  {
   "cell_type": "code",
   "execution_count": 25,
   "metadata": {},
   "outputs": [
    {
     "data": {
      "text/plain": [
       "'the failure to reject the null hypothesis when it is actually false'"
      ]
     },
     "execution_count": 25,
     "metadata": {},
     "output_type": "execute_result"
    }
   ],
   "source": [
    "glossary['type I error']"
   ]
  },
  {
   "cell_type": "code",
   "execution_count": 43,
   "metadata": {},
   "outputs": [],
   "source": [
    "json.dump(glossary, open('../Data/material_handbook/glossary_manual.json', 'w'), indent=4)"
   ]
  }
 ],
 "metadata": {
  "kernelspec": {
   "display_name": "MDI720",
   "language": "python",
   "name": "mdi720"
  },
  "language_info": {
   "codemirror_mode": {
    "name": "ipython",
    "version": 3
   },
   "file_extension": ".py",
   "mimetype": "text/x-python",
   "name": "python",
   "nbconvert_exporter": "python",
   "pygments_lexer": "ipython3",
   "version": "3.6.3"
  }
 },
 "nbformat": 4,
 "nbformat_minor": 2
}
