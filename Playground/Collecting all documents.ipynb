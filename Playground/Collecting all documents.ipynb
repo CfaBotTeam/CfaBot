{
 "cells": [
  {
   "cell_type": "code",
   "execution_count": 25,
   "metadata": {
    "collapsed": true
   },
   "outputs": [],
   "source": [
    "import sqlite3\n",
    "import pandas as pd"
   ]
  },
  {
   "cell_type": "code",
   "execution_count": 14,
   "metadata": {
    "collapsed": true
   },
   "outputs": [],
   "source": [
    "def dict_factory(cursor, row):\n",
    "    d = {}\n",
    "    for idx, col in enumerate(cursor.description):\n",
    "        d[col[0]] = row[idx]\n",
    "    return d"
   ]
  },
  {
   "cell_type": "code",
   "execution_count": 20,
   "metadata": {
    "collapsed": true
   },
   "outputs": [],
   "source": [
    "connection = sqlite3.connect(\"documents.db\")\n",
    "connection.row_factory = dict_factory\n",
    " "
   ]
  },
  {
   "cell_type": "code",
   "execution_count": 21,
   "metadata": {
    "collapsed": true
   },
   "outputs": [],
   "source": [
    "cursor = connection.cursor()\n",
    " \n",
    "cursor.execute(\"select * from documents\")\n",
    " \n",
    "# fetch all or one we'll go for all.\n",
    " \n",
    "results = cursor.fetchall()\n",
    " \n",
    "connection.close()"
   ]
  },
  {
   "cell_type": "code",
   "execution_count": 22,
   "metadata": {
    "collapsed": true
   },
   "outputs": [],
   "source": [
    "import json\n",
    "\n",
    "with open('data_collected.json', 'w') as fp:\n",
    "    json.dump(results, fp)"
   ]
  },
  {
   "cell_type": "code",
   "execution_count": 1,
   "metadata": {
    "collapsed": true
   },
   "outputs": [],
   "source": [
    "#marine\n",
    "import json\n",
    "import pandas as pd\n",
    "results = json.load(open('data_collected.json'))"
   ]
  },
  {
   "cell_type": "code",
   "execution_count": 2,
   "metadata": {
    "collapsed": true
   },
   "outputs": [],
   "source": [
    "df=pd.DataFrame(results)\n",
    "\n",
    "df=df.set_index('id')"
   ]
  },
  {
   "cell_type": "code",
   "execution_count": 67,
   "metadata": {},
   "outputs": [
    {
     "name": "stdout",
     "output_type": "stream",
     "text": [
      "Investopedia_26427  :  What is an 'Export'?: An export is a function of international trade whereby goods produced in one country are shipped to another country for future sale or trade. The sale of such goods adds to the producing nation's gross output.\n",
      "\n",
      "Investopedia_26429  :  Advantages of Exporting for Companies: Exports are one of the oldest forms of economic transfer and occur on a large scale between nations that have fewer restrictions on trade, such as tariffs or subsidies. Most of the largest companies operating in advanced economies derive a substantial portion of their annual revenues from exports to other countries. The ability to export goods helps an economy to grow. One of the core functions of diplomacy and foreign policy within governments is to foster economic trade for the benefit of all trading parties.\n",
      "\n"
     ]
    }
   ],
   "source": [
    "doc_pert_ids=['Investopedia_26427','Investopedia_26429']\n",
    "\n",
    "for idd in doc_pert_ids:\n",
    "    ss=df.loc[idd]['text']\n",
    "    print(idd, \" : \", ss, end=\"\\n\\n\")\n",
    "    "
   ]
  },
  {
   "cell_type": "code",
   "execution_count": 7,
   "metadata": {},
   "outputs": [
    {
     "data": {
      "text/html": [
       "<div>\n",
       "<style>\n",
       "    .dataframe thead tr:only-child th {\n",
       "        text-align: right;\n",
       "    }\n",
       "\n",
       "    .dataframe thead th {\n",
       "        text-align: left;\n",
       "    }\n",
       "\n",
       "    .dataframe tbody tr th {\n",
       "        vertical-align: top;\n",
       "    }\n",
       "</style>\n",
       "<table border=\"1\" class=\"dataframe\">\n",
       "  <thead>\n",
       "    <tr style=\"text-align: right;\">\n",
       "      <th></th>\n",
       "      <th>text</th>\n",
       "    </tr>\n",
       "    <tr>\n",
       "      <th>id</th>\n",
       "      <th></th>\n",
       "    </tr>\n",
       "  </thead>\n",
       "  <tbody>\n",
       "    <tr>\n",
       "      <th>Investopedia_26427</th>\n",
       "      <td>What is an 'Export'?: An export is a function ...</td>\n",
       "    </tr>\n",
       "    <tr>\n",
       "      <th>Investopedia_26428</th>\n",
       "      <td>BREAKING DOWN 'Export': BREAKING DOWN 'Export'</td>\n",
       "    </tr>\n",
       "  </tbody>\n",
       "</table>\n",
       "</div>"
      ],
      "text/plain": [
       "                                                                 text\n",
       "id                                                                   \n",
       "Investopedia_26427  What is an 'Export'?: An export is a function ...\n",
       "Investopedia_26428     BREAKING DOWN 'Export': BREAKING DOWN 'Export'"
      ]
     },
     "execution_count": 7,
     "metadata": {},
     "output_type": "execute_result"
    }
   ],
   "source": [
    "df.loc[['Investopedia_26427','Investopedia_26428']]"
   ]
  },
  {
   "cell_type": "code",
   "execution_count": 24,
   "metadata": {},
   "outputs": [
    {
     "name": "stderr",
     "output_type": "stream",
     "text": [
      "/Users/marine/anaconda/lib/python3.6/site-packages/ipykernel_launcher.py:1: UserWarning: This pattern has match groups. To actually get the groups, use str.extract.\n",
      "  \"\"\"Entry point for launching an IPython kernel.\n"
     ]
    },
    {
     "data": {
      "text/html": [
       "<div>\n",
       "<style>\n",
       "    .dataframe thead tr:only-child th {\n",
       "        text-align: right;\n",
       "    }\n",
       "\n",
       "    .dataframe thead th {\n",
       "        text-align: left;\n",
       "    }\n",
       "\n",
       "    .dataframe tbody tr th {\n",
       "        vertical-align: top;\n",
       "    }\n",
       "</style>\n",
       "<table border=\"1\" class=\"dataframe\">\n",
       "  <thead>\n",
       "    <tr style=\"text-align: right;\">\n",
       "      <th></th>\n",
       "      <th>text</th>\n",
       "    </tr>\n",
       "    <tr>\n",
       "      <th>id</th>\n",
       "      <th></th>\n",
       "    </tr>\n",
       "  </thead>\n",
       "  <tbody>\n",
       "    <tr>\n",
       "      <th>Investopedia_42226</th>\n",
       "      <td>DEFINITION of 'Objective Probability': The pro...</td>\n",
       "    </tr>\n",
       "    <tr>\n",
       "      <th>211</th>\n",
       "      <td>An empirical probability is established by ana...</td>\n",
       "    </tr>\n",
       "    <tr>\n",
       "      <th>296</th>\n",
       "      <td>A priori probability measures predetermined pr...</td>\n",
       "    </tr>\n",
       "    <tr>\n",
       "      <th>4</th>\n",
       "      <td>d. describe the properties of a data set prese...</td>\n",
       "    </tr>\n",
       "  </tbody>\n",
       "</table>\n",
       "</div>"
      ],
      "text/plain": [
       "                                                                 text\n",
       "id                                                                   \n",
       "Investopedia_42226  DEFINITION of 'Objective Probability': The pro...\n",
       "211                 An empirical probability is established by ana...\n",
       "296                 A priori probability measures predetermined pr...\n",
       "4                   d. describe the properties of a data set prese..."
      ]
     },
     "execution_count": 24,
     "metadata": {},
     "output_type": "execute_result"
    }
   ],
   "source": [
    "df[df['text'].str.contains(r\"(probability.*subjective)\")]"
   ]
  },
  {
   "cell_type": "code",
   "execution_count": 8,
   "metadata": {},
   "outputs": [
    {
     "data": {
      "text/plain": [
       "\"An empirical probability is established by analyzing past data. An a priori probability is determined using a formal reasoning and inspection process. A subjective probability is the least formal method of developing probabilities and involves the use of personal judgment. An analyst may know many things about a firm's performance and have expectations about the overall market that are all used to arrive at a subjective probability, such as, “I believe there is a 70% probability that Acme Foods will outperform the market this year.” Empirical and a priori probabilities, by contrast, are objective probabilities. \""
      ]
     },
     "execution_count": 8,
     "metadata": {},
     "output_type": "execute_result"
    }
   ],
   "source": [
    "df.loc[\"211\"].text"
   ]
  },
  {
   "cell_type": "code",
   "execution_count": 12,
   "metadata": {},
   "outputs": [
    {
     "data": {
      "text/html": [
       "<div>\n",
       "<style>\n",
       "    .dataframe thead tr:only-child th {\n",
       "        text-align: right;\n",
       "    }\n",
       "\n",
       "    .dataframe thead th {\n",
       "        text-align: left;\n",
       "    }\n",
       "\n",
       "    .dataframe tbody tr th {\n",
       "        vertical-align: top;\n",
       "    }\n",
       "</style>\n",
       "<table border=\"1\" class=\"dataframe\">\n",
       "  <thead>\n",
       "    <tr style=\"text-align: right;\">\n",
       "      <th></th>\n",
       "      <th>text</th>\n",
       "    </tr>\n",
       "    <tr>\n",
       "      <th>id</th>\n",
       "      <th></th>\n",
       "    </tr>\n",
       "  </thead>\n",
       "  <tbody>\n",
       "    <tr>\n",
       "      <th>3817</th>\n",
       "      <td>If we calculate an OAS for a callable bond, it...</td>\n",
       "    </tr>\n",
       "    <tr>\n",
       "      <th>3816</th>\n",
       "      <td>An option-adjusted spread (OAS) is used for bo...</td>\n",
       "    </tr>\n",
       "    <tr>\n",
       "      <th>3829</th>\n",
       "      <td>A zero-volatility spread or Z-spread is the pe...</td>\n",
       "    </tr>\n",
       "  </tbody>\n",
       "</table>\n",
       "</div>"
      ],
      "text/plain": [
       "                                                   text\n",
       "id                                                     \n",
       "3817  If we calculate an OAS for a callable bond, it...\n",
       "3816  An option-adjusted spread (OAS) is used for bo...\n",
       "3829  A zero-volatility spread or Z-spread is the pe..."
      ]
     },
     "execution_count": 12,
     "metadata": {},
     "output_type": "execute_result"
    }
   ],
   "source": [
    "df[df['text'].str.contains(r\"OAS.*Z-spread\")]"
   ]
  },
  {
   "cell_type": "code",
   "execution_count": 13,
   "metadata": {},
   "outputs": [
    {
     "data": {
      "text/plain": [
       "\"If we calculate an OAS for a callable bond, it will be less than the bond's Z-spread. The difference is the extra yield required to compensate bondholders for the call option. That extra yield is the option value. Thus, we can write: \""
      ]
     },
     "execution_count": 13,
     "metadata": {},
     "output_type": "execute_result"
    }
   ],
   "source": [
    "df.loc[\"3817\"].text"
   ]
  },
  {
   "cell_type": "code",
   "execution_count": 14,
   "metadata": {},
   "outputs": [
    {
     "data": {
      "text/plain": [
       "'An option-adjusted spread (OAS) is used for bonds with embedded options. Loosely speaking, the option-adjusted spread takes the option yield component out of the Z-spread measure; the OAS is the spread to the government spot rate curve that the bond would have if it were option-free. '"
      ]
     },
     "execution_count": 14,
     "metadata": {},
     "output_type": "execute_result"
    }
   ],
   "source": [
    "df.loc[\"3816\"].text"
   ]
  },
  {
   "cell_type": "code",
   "execution_count": 15,
   "metadata": {},
   "outputs": [
    {
     "data": {
      "text/plain": [
       "'A zero-volatility spread or Z-spread is the percent spread that must be added to each spot rate on the benchmark yield curve to make the present value of a bond equal to its price. An option-adjusted spread or OAS is used for bonds with embedded options. For a callable bond, the OAS is equal to the Z-spread minus the call option value in basis points. '"
      ]
     },
     "execution_count": 15,
     "metadata": {},
     "output_type": "execute_result"
    }
   ],
   "source": [
    "df.loc[\"3829\"].text"
   ]
  },
  {
   "cell_type": "code",
   "execution_count": 25,
   "metadata": {},
   "outputs": [
    {
     "data": {
      "text/html": [
       "<div>\n",
       "<style>\n",
       "    .dataframe thead tr:only-child th {\n",
       "        text-align: right;\n",
       "    }\n",
       "\n",
       "    .dataframe thead th {\n",
       "        text-align: left;\n",
       "    }\n",
       "\n",
       "    .dataframe tbody tr th {\n",
       "        vertical-align: top;\n",
       "    }\n",
       "</style>\n",
       "<table border=\"1\" class=\"dataframe\">\n",
       "  <thead>\n",
       "    <tr style=\"text-align: right;\">\n",
       "      <th></th>\n",
       "      <th>text</th>\n",
       "    </tr>\n",
       "    <tr>\n",
       "      <th>id</th>\n",
       "      <th></th>\n",
       "    </tr>\n",
       "  </thead>\n",
       "  <tbody>\n",
       "    <tr>\n",
       "      <th>3049</th>\n",
       "      <td>The topical coverage corresponds with the foll...</td>\n",
       "    </tr>\n",
       "  </tbody>\n",
       "</table>\n",
       "</div>"
      ],
      "text/plain": [
       "                                                   text\n",
       "id                                                     \n",
       "3049  The topical coverage corresponds with the foll..."
      ]
     },
     "execution_count": 25,
     "metadata": {},
     "output_type": "execute_result"
    }
   ],
   "source": [
    "df[df['text'].str.contains(r\"weighted average cost of capital.*optimal capital budget\")]"
   ]
  },
  {
   "cell_type": "code",
   "execution_count": 18,
   "metadata": {},
   "outputs": [
    {
     "data": {
      "text/plain": [
       "\"The topical coverage corresponds with the following CFA Institute assigned reading: 36. Cost of Capital The candidate should be able to: a. calculate and interpret the weighted average cost of capital (WACC) of a company. (page 41) b. describe how taxes affect the cost of capital from different capital sources. (page 41) C. describe the use of target capital structure in estimating WACC and how target capital structure weights may be determined. (page 43) d. explain how the marginal cost of capital and the investment opportunity schedule are used to determine the optimal capital budget. (page 44) e. explain the marginal cost of capital's role in determining the net present value of a project. (page 45) calculate and interpret the cost of debt capital using the yield-to-maturity approach and the debt-rating approach. (page 45) g. calculate and interpret the cost of noncallable, nonconvertible preferred stock. (page 46) calculate and interpret the cost of equity capital using the capital asset pricing model approach, the dividend discount model approach, and the bond-yieldplus risk-premium approach. (page 47) i. calculate and interpret the beta and cost of capital for a project. (page 49) j. describe uses of country risk premiums in estimating the cost of equity. (page 51) k. describe the marginal cost of capital schedule, explain why it may be upwardsloping with respect to additional capital, and calculate and interpret its breakpoints. (page 52) 1. explain and demonstrate the correct treatment of flotation costs. (page 54) \""
      ]
     },
     "execution_count": 18,
     "metadata": {},
     "output_type": "execute_result"
    }
   ],
   "source": [
    "df.loc['3049'].text"
   ]
  },
  {
   "cell_type": "code",
   "execution_count": 27,
   "metadata": {},
   "outputs": [
    {
     "data": {
      "text/html": [
       "<div>\n",
       "<style>\n",
       "    .dataframe thead tr:only-child th {\n",
       "        text-align: right;\n",
       "    }\n",
       "\n",
       "    .dataframe thead th {\n",
       "        text-align: left;\n",
       "    }\n",
       "\n",
       "    .dataframe tbody tr th {\n",
       "        vertical-align: top;\n",
       "    }\n",
       "</style>\n",
       "<table border=\"1\" class=\"dataframe\">\n",
       "  <thead>\n",
       "    <tr style=\"text-align: right;\">\n",
       "      <th></th>\n",
       "      <th>text</th>\n",
       "    </tr>\n",
       "    <tr>\n",
       "      <th>id</th>\n",
       "      <th></th>\n",
       "    </tr>\n",
       "  </thead>\n",
       "  <tbody>\n",
       "  </tbody>\n",
       "</table>\n",
       "</div>"
      ],
      "text/plain": [
       "Empty DataFrame\n",
       "Columns: [text]\n",
       "Index: []"
      ]
     },
     "execution_count": 27,
     "metadata": {},
     "output_type": "execute_result"
    }
   ],
   "source": [
    "df[df['text'].str.contains(r\"subjective.*historical record\")]"
   ]
  },
  {
   "cell_type": "code",
   "execution_count": 29,
   "metadata": {},
   "outputs": [
    {
     "data": {
      "text/plain": [
       "\"An empirical probability is established by analyzing past data. An a priori probability is determined using a formal reasoning and inspection process. A subjective probability is the least formal method of developing probabilities and involves the use of personal judgment. An analyst may know many things about a firm's performance and have expectations about the overall market that are all used to arrive at a subjective probability, such as, “I believe there is a 70% probability that Acme Foods will outperform the market this year.” Empirical and a priori probabilities, by contrast, are objective probabilities. \""
      ]
     },
     "execution_count": 29,
     "metadata": {},
     "output_type": "execute_result"
    }
   ],
   "source": [
    "df.loc['211'].text"
   ]
  },
  {
   "cell_type": "code",
   "execution_count": 31,
   "metadata": {},
   "outputs": [
    {
     "data": {
      "text/html": [
       "<div>\n",
       "<style>\n",
       "    .dataframe thead tr:only-child th {\n",
       "        text-align: right;\n",
       "    }\n",
       "\n",
       "    .dataframe thead th {\n",
       "        text-align: left;\n",
       "    }\n",
       "\n",
       "    .dataframe tbody tr th {\n",
       "        vertical-align: top;\n",
       "    }\n",
       "</style>\n",
       "<table border=\"1\" class=\"dataframe\">\n",
       "  <thead>\n",
       "    <tr style=\"text-align: right;\">\n",
       "      <th></th>\n",
       "      <th>text</th>\n",
       "    </tr>\n",
       "    <tr>\n",
       "      <th>id</th>\n",
       "      <th></th>\n",
       "    </tr>\n",
       "  </thead>\n",
       "  <tbody>\n",
       "    <tr>\n",
       "      <th>Investopedia_42226</th>\n",
       "      <td>DEFINITION of 'Objective Probability': The pro...</td>\n",
       "    </tr>\n",
       "    <tr>\n",
       "      <th>211</th>\n",
       "      <td>An empirical probability is established by ana...</td>\n",
       "    </tr>\n",
       "    <tr>\n",
       "      <th>296</th>\n",
       "      <td>A priori probability measures predetermined pr...</td>\n",
       "    </tr>\n",
       "    <tr>\n",
       "      <th>4</th>\n",
       "      <td>d. describe the properties of a data set prese...</td>\n",
       "    </tr>\n",
       "  </tbody>\n",
       "</table>\n",
       "</div>"
      ],
      "text/plain": [
       "                                                                 text\n",
       "id                                                                   \n",
       "Investopedia_42226  DEFINITION of 'Objective Probability': The pro...\n",
       "211                 An empirical probability is established by ana...\n",
       "296                 A priori probability measures predetermined pr...\n",
       "4                   d. describe the properties of a data set prese..."
      ]
     },
     "execution_count": 31,
     "metadata": {},
     "output_type": "execute_result"
    }
   ],
   "source": [
    "df[df['text'].str.contains(r\"probability.*subjective\")]"
   ]
  },
  {
   "cell_type": "code",
   "execution_count": 37,
   "metadata": {},
   "outputs": [
    {
     "data": {
      "text/plain": [
       "\"d. describe the properties of a data set presented as a histogram or a frequency polygon. (page 126) calculate and interpret measures of central tendency, including the population mean, sample mean, arithmetic mean, weighted average or mean, geometric mean, harmonic mean, median, and mode. (page 127) f. calculate and interpret quartiles, quintiles, deciles, and percentiles. (page 132) g. calculate and interpret 1) a range and a mean absolute deviation and 2) the variance and standard deviation of a population and of a sample. (page 133) h. calculate and interpret the proportion of observations falling within a specified number of standard deviations of the mean using Chebyshev's inequality. (page 137) i. calculate and interpret the coefficient of variation and the Sharpe ratio. (page 138) explain skewness and the meaning of a positively or negatively skewed return distribution. (page 140) k. describe the relative locations of the mean, median, and mode for a unimodal, nonsymmetrical distribution. (page 140) 1. explain measures of sample skewness and kurtosis. (page 141) m. compare the use of arithmetic and geometric means when analyzing investment returns. (page 143) The topical coverage corresponds with the following CFA Institute assigned reading: 9. Probability Concepts The candidate should be able to: a. define a random variable, an outcome, an event, mutually exclusive events, and exhaustive events. (page 159) state the two defining properties of probability and distinguish among empirical, subjective, and a priori probabilities. (page 159) state the probability of an event in terms of odds for and against the event. (page 160) d. distinguish between unconditional and conditional probabilities. (page 161) e. explain the multiplication, addition, and total probability rules. (page 161) calculate and interpret 1) the joint probability of two events, 2) the probability that at least one of two events will occur, given the probability of each and the joint probability of the two events, and 3) a joint probability of any number of independent events. (page 161) distinguish between dependent and independent events. (page 165) calculate and interpret an unconditional probability using the total probability rule. (page 166) i. explain the use of conditional expectation in investment applications. (page 170) j. explain the use of a tree diagram to represent an investment problem. (page 170) k. calculate and interpret covariance and correlation. (page 171) 1. calculate and interpret the expected value, variance, and standard deviation of a random variable and of returns on a portfolio. (page 174) m. calculate and interpret covariance given a joint probability function. (page 176) n. calculate and interpret an updated probability using Bayes' formula. (page 180) o. identify the most appropriate method to solve a particular counting problem and solve counting problems using factorial, combination, and permutation concepts. (page 182) \""
      ]
     },
     "execution_count": 37,
     "metadata": {},
     "output_type": "execute_result"
    }
   ],
   "source": [
    "df.loc['4'].text"
   ]
  },
  {
   "cell_type": "code",
   "execution_count": null,
   "metadata": {
    "collapsed": true
   },
   "outputs": [],
   "source": []
  }
 ],
 "metadata": {
  "kernelspec": {
   "display_name": "Python 3",
   "language": "python",
   "name": "python3"
  },
  "language_info": {
   "codemirror_mode": {
    "name": "ipython",
    "version": 3
   },
   "file_extension": ".py",
   "mimetype": "text/x-python",
   "name": "python",
   "nbconvert_exporter": "python",
   "pygments_lexer": "ipython3",
   "version": "3.6.3"
  }
 },
 "nbformat": 4,
 "nbformat_minor": 2
}
