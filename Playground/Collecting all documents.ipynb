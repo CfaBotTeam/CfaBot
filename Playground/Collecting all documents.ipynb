{
 "cells": [
  {
   "cell_type": "code",
   "execution_count": 25,
   "metadata": {
    "collapsed": true
   },
   "outputs": [],
   "source": [
    "import sqlite3\n",
    "import pandas as pd"
   ]
  },
  {
   "cell_type": "code",
   "execution_count": 14,
   "metadata": {
    "collapsed": true
   },
   "outputs": [],
   "source": [
    "def dict_factory(cursor, row):\n",
    "    d = {}\n",
    "    for idx, col in enumerate(cursor.description):\n",
    "        d[col[0]] = row[idx]\n",
    "    return d"
   ]
  },
  {
   "cell_type": "code",
   "execution_count": 20,
   "metadata": {
    "collapsed": true
   },
   "outputs": [],
   "source": [
    "connection = sqlite3.connect(\"documents.db\")\n",
    "connection.row_factory = dict_factory\n",
    " "
   ]
  },
  {
   "cell_type": "code",
   "execution_count": 21,
   "metadata": {
    "collapsed": true
   },
   "outputs": [],
   "source": [
    "cursor = connection.cursor()\n",
    " \n",
    "cursor.execute(\"select * from documents\")\n",
    " \n",
    "# fetch all or one we'll go for all.\n",
    " \n",
    "results = cursor.fetchall()\n",
    " \n",
    "connection.close()"
   ]
  },
  {
   "cell_type": "code",
   "execution_count": 22,
   "metadata": {
    "collapsed": true
   },
   "outputs": [],
   "source": [
    "import json\n",
    "\n",
    "with open('data_collected.json', 'w') as fp:\n",
    "    json.dump(results, fp)"
   ]
  },
  {
   "cell_type": "code",
   "execution_count": 11,
   "metadata": {
    "collapsed": true
   },
   "outputs": [],
   "source": [
    "#marine\n",
    "import json\n",
    "import pandas as pd\n",
    "results = json.load(open('data_collected.json'))"
   ]
  },
  {
   "cell_type": "code",
   "execution_count": 12,
   "metadata": {},
   "outputs": [],
   "source": [
    "df=pd.DataFrame(results)\n",
    "\n",
    "df=df.set_index('id')"
   ]
  },
  {
   "cell_type": "code",
   "execution_count": 67,
   "metadata": {},
   "outputs": [
    {
     "name": "stdout",
     "output_type": "stream",
     "text": [
      "Investopedia_26427  :  What is an 'Export'?: An export is a function of international trade whereby goods produced in one country are shipped to another country for future sale or trade. The sale of such goods adds to the producing nation's gross output.\n",
      "\n",
      "Investopedia_26429  :  Advantages of Exporting for Companies: Exports are one of the oldest forms of economic transfer and occur on a large scale between nations that have fewer restrictions on trade, such as tariffs or subsidies. Most of the largest companies operating in advanced economies derive a substantial portion of their annual revenues from exports to other countries. The ability to export goods helps an economy to grow. One of the core functions of diplomacy and foreign policy within governments is to foster economic trade for the benefit of all trading parties.\n",
      "\n"
     ]
    }
   ],
   "source": [
    "doc_pert_ids=['Investopedia_26427','Investopedia_26429']\n",
    "\n",
    "for idd in doc_pert_ids:\n",
    "    ss=df.loc[idd]['text']\n",
    "    print(idd, \" : \", ss, end=\"\\n\\n\")\n",
    "    "
   ]
  },
  {
   "cell_type": "code",
   "execution_count": null,
   "metadata": {
    "collapsed": true
   },
   "outputs": [],
   "source": []
  }
 ],
 "metadata": {
  "kernelspec": {
   "display_name": "Python 3",
   "language": "python",
   "name": "python3"
  },
  "language_info": {
   "codemirror_mode": {
    "name": "ipython",
    "version": 3
   },
   "file_extension": ".py",
   "mimetype": "text/x-python",
   "name": "python",
   "nbconvert_exporter": "python",
   "pygments_lexer": "ipython3",
   "version": "3.6.1"
  }
 },
 "nbformat": 4,
 "nbformat_minor": 2
}
